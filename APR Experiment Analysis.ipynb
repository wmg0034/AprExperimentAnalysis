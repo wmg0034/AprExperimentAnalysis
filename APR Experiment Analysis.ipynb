{
 "cells": [
  {
   "cell_type": "markdown",
   "metadata": {},
   "source": [
    "# Finance Exercise \n",
    "\n",
    "#### William Goode"
   ]
  },
  {
   "cell_type": "markdown",
   "metadata": {},
   "source": [
    "### Introduction\n",
    "\n",
    "This notebook analyzes a data set for The Acme Corporation, who sells widgets. In addition to selling widgets, Acme offers financing for the widgets. They have a test group and a control group, to whom they offer different APRs. Questions are written in code font at the start of each section except the Preliminary section. The questions involve trade-offs between various APRs, margins based on that APR, and whether or not a sale eventuates from the offered APR."
   ]
  },
  {
   "cell_type": "markdown",
   "metadata": {},
   "source": [
    "## Table of Contents\n",
    "0. [Preliminary](#preliminary) \n",
    "1. [Acme Pricing](#acme_pricing)\n",
    "2. [Customer Conversion Rate](#customer_conversion_rate)\n",
    "3. [Acme Margin](#acme_margin)\n",
    "4. [Margin Optimization](#margin_optimization)\n",
    "5. [Summary Remarks](#summary_remarks)"
   ]
  },
  {
   "cell_type": "markdown",
   "metadata": {},
   "source": [
    "### Preliminary <a class=\"anchor\" id=\"preliminary\"></a>\n",
    "\n",
    "This initial section contains the necessary packages (both installation and import) should one want to run the notebook, as well as other set-up cells and some assignment information."
   ]
  },
  {
   "cell_type": "code",
   "execution_count": 25,
   "metadata": {},
   "outputs": [],
   "source": [
    "# %pip install catppuccin #color theme package\n",
    "# %pip install nbconvert #notebook to pdf conversion package\n",
    "# %pip install pandas\n",
    "# %pip install matplotlib\n",
    "# %pip install statsmodels\n",
    "# %pip install seaborn"
   ]
  },
  {
   "cell_type": "markdown",
   "metadata": {},
   "source": [
    "The below cell contains the figure size for bar graphs - alter as needed. The type is a `tuple` and the entries are (width, height) in inches."
   ]
  },
  {
   "cell_type": "code",
   "execution_count": 26,
   "metadata": {},
   "outputs": [],
   "source": [
    "size=(20,6)"
   ]
  },
  {
   "cell_type": "markdown",
   "metadata": {},
   "source": [
    "All  packages for this document are contained below."
   ]
  },
  {
   "cell_type": "code",
   "execution_count": 27,
   "metadata": {},
   "outputs": [],
   "source": [
    "import pandas as pd\n",
    "import numpy as np\n",
    "import scipy.stats as stats\n",
    "\n",
    "import matplotlib as mpl\n",
    "import matplotlib.pyplot as plt\n",
    "from matplotlib import rcParams\n",
    "\n",
    "import seaborn as sns\n",
    "import statsmodels\n",
    "\n",
    "import catppuccin as cpn\n",
    "from catppuccin import PALETTE"
   ]
  },
  {
   "cell_type": "markdown",
   "metadata": {},
   "source": [
    "The following cell is just for aesthetics."
   ]
  },
  {
   "cell_type": "code",
   "execution_count": 28,
   "metadata": {},
   "outputs": [],
   "source": [
    "plt.rcParams[\"figure.figsize\"] = size\n",
    "mpl.style.use([\"ggplot\", cpn.PALETTE.mocha.identifier])\n",
    "%config InteractiveShell.ast_node_interactivity = 'all'"
   ]
  },
  {
   "cell_type": "markdown",
   "metadata": {},
   "source": [
    "And we load in the data here."
   ]
  },
  {
   "cell_type": "code",
   "execution_count": 29,
   "metadata": {},
   "outputs": [],
   "source": [
    "df = pd.read_csv('Finance_Analyst_Take_Home_Exercise_Data.csv')"
   ]
  },
  {
   "cell_type": "markdown",
   "metadata": {},
   "source": [
    "To keep the document self-contained, we reproduce the data dictionary:\n",
    "\n",
    "| Column                        | Description |\n",
    "| --------                      | ------- |\n",
    "| `app_id`                      | id # of the application    |\n",
    "| `fico`                        | the FICO score of the applicant (700 or 600 in this exercise)|\n",
    "| `apr_test_group`              | whether or not the applicant is in the test group (randomized)|\n",
    "| `apr`                         | the APR that Acme offers the customer|\n",
    "| `converted to sale`           | whether or not the applicant ended up buying a widget from Acme|\n",
    "| `vehicle margin`              | the profit that Acme makes on selling the widget|\n",
    "| `finance margin`              | the profit that Acme makes on the loan to the customer (after selling the loan to a counter-party at a fair price)|"
   ]
  },
  {
   "cell_type": "markdown",
   "metadata": {},
   "source": [
    "We will also take a cursory look at the data."
   ]
  },
  {
   "cell_type": "code",
   "execution_count": 30,
   "metadata": {},
   "outputs": [
    {
     "data": {
      "text/html": [
       "<div>\n",
       "<style scoped>\n",
       "    .dataframe tbody tr th:only-of-type {\n",
       "        vertical-align: middle;\n",
       "    }\n",
       "\n",
       "    .dataframe tbody tr th {\n",
       "        vertical-align: top;\n",
       "    }\n",
       "\n",
       "    .dataframe thead th {\n",
       "        text-align: right;\n",
       "    }\n",
       "</style>\n",
       "<table border=\"1\" class=\"dataframe\">\n",
       "  <thead>\n",
       "    <tr style=\"text-align: right;\">\n",
       "      <th></th>\n",
       "      <th>app_id</th>\n",
       "      <th>fico</th>\n",
       "      <th>apr_test_group</th>\n",
       "      <th>apr</th>\n",
       "      <th>converted to sale</th>\n",
       "      <th>vehicle margin</th>\n",
       "      <th>finance margin</th>\n",
       "    </tr>\n",
       "  </thead>\n",
       "  <tbody>\n",
       "    <tr>\n",
       "      <th>0</th>\n",
       "      <td>1</td>\n",
       "      <td>700</td>\n",
       "      <td>control</td>\n",
       "      <td>4.00%</td>\n",
       "      <td>False</td>\n",
       "      <td>NaN</td>\n",
       "      <td>NaN</td>\n",
       "    </tr>\n",
       "    <tr>\n",
       "      <th>1</th>\n",
       "      <td>2</td>\n",
       "      <td>700</td>\n",
       "      <td>test</td>\n",
       "      <td>3.00%</td>\n",
       "      <td>False</td>\n",
       "      <td>NaN</td>\n",
       "      <td>NaN</td>\n",
       "    </tr>\n",
       "    <tr>\n",
       "      <th>2</th>\n",
       "      <td>3</td>\n",
       "      <td>700</td>\n",
       "      <td>test</td>\n",
       "      <td>3.00%</td>\n",
       "      <td>False</td>\n",
       "      <td>NaN</td>\n",
       "      <td>NaN</td>\n",
       "    </tr>\n",
       "    <tr>\n",
       "      <th>3</th>\n",
       "      <td>4</td>\n",
       "      <td>700</td>\n",
       "      <td>control</td>\n",
       "      <td>4.00%</td>\n",
       "      <td>False</td>\n",
       "      <td>NaN</td>\n",
       "      <td>NaN</td>\n",
       "    </tr>\n",
       "    <tr>\n",
       "      <th>4</th>\n",
       "      <td>5</td>\n",
       "      <td>700</td>\n",
       "      <td>control</td>\n",
       "      <td>4.00%</td>\n",
       "      <td>True</td>\n",
       "      <td>1000.0</td>\n",
       "      <td>600.0</td>\n",
       "    </tr>\n",
       "  </tbody>\n",
       "</table>\n",
       "</div>"
      ],
      "text/plain": [
       "   app_id  fico apr_test_group    apr  converted to sale  vehicle margin  \\\n",
       "0       1   700        control  4.00%              False             NaN   \n",
       "1       2   700           test  3.00%              False             NaN   \n",
       "2       3   700           test  3.00%              False             NaN   \n",
       "3       4   700        control  4.00%              False             NaN   \n",
       "4       5   700        control  4.00%               True          1000.0   \n",
       "\n",
       "   finance margin  \n",
       "0             NaN  \n",
       "1             NaN  \n",
       "2             NaN  \n",
       "3             NaN  \n",
       "4           600.0  "
      ]
     },
     "execution_count": 30,
     "metadata": {},
     "output_type": "execute_result"
    },
    {
     "name": "stdout",
     "output_type": "stream",
     "text": [
      "<class 'pandas.core.frame.DataFrame'>\n",
      "RangeIndex: 20000 entries, 0 to 19999\n",
      "Data columns (total 7 columns):\n",
      " #   Column             Non-Null Count  Dtype  \n",
      "---  ------             --------------  -----  \n",
      " 0   app_id             20000 non-null  int64  \n",
      " 1   fico               20000 non-null  int64  \n",
      " 2   apr_test_group     20000 non-null  object \n",
      " 3   apr                20000 non-null  object \n",
      " 4   converted to sale  20000 non-null  bool   \n",
      " 5   vehicle margin     5021 non-null   float64\n",
      " 6   finance margin     5021 non-null   float64\n",
      "dtypes: bool(1), float64(2), int64(2), object(2)\n",
      "memory usage: 957.2+ KB\n"
     ]
    }
   ],
   "source": [
    "df.head()\n",
    "df.info()"
   ]
  },
  {
   "cell_type": "markdown",
   "metadata": {},
   "source": [
    "### 1. Acme Pricing <a class=\"anchor\" id=\"acme_pricing\"></a>\n",
    "\n",
    "`What’s the current APR pricing strategy for the different FICO buckets? How is the randomized test structured? How do APRs vary by test group?`"
   ]
  },
  {
   "cell_type": "markdown",
   "metadata": {},
   "source": [
    "Let us first examine the possible column values. The following cell verifies there are 2 FICO buckets, 4 APR rates, and 2 test groups. Since all columns assume a small number of values, we will initially consider the data to be categorical and represent it in a contingency table."
   ]
  },
  {
   "cell_type": "code",
   "execution_count": 31,
   "metadata": {},
   "outputs": [
    {
     "name": "stdout",
     "output_type": "stream",
     "text": [
      "FICO: 2 [700 600]\n",
      "APR: 4 ['4.00%' '3.00%' '4.40%' '5.40%']\n",
      "Test groups: 2 ['control' 'test']\n"
     ]
    }
   ],
   "source": [
    "print(\"FICO:\", df['fico'].nunique(), df['fico'].unique())\n",
    "print(\"APR:\", df['apr'].nunique(), df['apr'].unique())\n",
    "print(\"Test groups:\", df['apr_test_group'].nunique(), df['apr_test_group'].unique())"
   ]
  },
  {
   "cell_type": "code",
   "execution_count": 32,
   "metadata": {},
   "outputs": [
    {
     "data": {
      "text/html": [
       "<div>\n",
       "<style scoped>\n",
       "    .dataframe tbody tr th:only-of-type {\n",
       "        vertical-align: middle;\n",
       "    }\n",
       "\n",
       "    .dataframe tbody tr th {\n",
       "        vertical-align: top;\n",
       "    }\n",
       "\n",
       "    .dataframe thead th {\n",
       "        text-align: right;\n",
       "    }\n",
       "</style>\n",
       "<table border=\"1\" class=\"dataframe\">\n",
       "  <thead>\n",
       "    <tr style=\"text-align: right;\">\n",
       "      <th></th>\n",
       "      <th>apr</th>\n",
       "      <th>3.00%</th>\n",
       "      <th>4.00%</th>\n",
       "      <th>4.40%</th>\n",
       "      <th>5.40%</th>\n",
       "    </tr>\n",
       "    <tr>\n",
       "      <th>fico</th>\n",
       "      <th>apr_test_group</th>\n",
       "      <th></th>\n",
       "      <th></th>\n",
       "      <th></th>\n",
       "      <th></th>\n",
       "    </tr>\n",
       "  </thead>\n",
       "  <tbody>\n",
       "    <tr>\n",
       "      <th rowspan=\"2\" valign=\"top\">600</th>\n",
       "      <th>control</th>\n",
       "      <td>0</td>\n",
       "      <td>0</td>\n",
       "      <td>0</td>\n",
       "      <td>5095</td>\n",
       "    </tr>\n",
       "    <tr>\n",
       "      <th>test</th>\n",
       "      <td>0</td>\n",
       "      <td>0</td>\n",
       "      <td>4906</td>\n",
       "      <td>0</td>\n",
       "    </tr>\n",
       "    <tr>\n",
       "      <th rowspan=\"2\" valign=\"top\">700</th>\n",
       "      <th>control</th>\n",
       "      <td>0</td>\n",
       "      <td>4926</td>\n",
       "      <td>0</td>\n",
       "      <td>0</td>\n",
       "    </tr>\n",
       "    <tr>\n",
       "      <th>test</th>\n",
       "      <td>5073</td>\n",
       "      <td>0</td>\n",
       "      <td>0</td>\n",
       "      <td>0</td>\n",
       "    </tr>\n",
       "  </tbody>\n",
       "</table>\n",
       "</div>"
      ],
      "text/plain": [
       "apr                  3.00%  4.00%  4.40%  5.40%\n",
       "fico apr_test_group                            \n",
       "600  control             0      0      0   5095\n",
       "     test                0      0   4906      0\n",
       "700  control             0   4926      0      0\n",
       "     test             5073      0      0      0"
      ]
     },
     "execution_count": 32,
     "metadata": {},
     "output_type": "execute_result"
    }
   ],
   "source": [
    "pd.crosstab([df['fico'], df['apr_test_group']], df['apr']) "
   ]
  },
  {
   "cell_type": "markdown",
   "metadata": {},
   "source": [
    "It is clear that a FICO of 600 means an APR of at least 4.40%, and a FICO of 700 means an APR of 4.00% or less. We can also see that the test group comprises a little over half of the data set. The table reveals that test group applicants had their APRs reduced by 1 point, regardless of their FICO. "
   ]
  },
  {
   "cell_type": "markdown",
   "metadata": {},
   "source": [
    "### 2. Customer Conversion Rate <a class=\"anchor\" id=\"customer_conversion_rate\"></a>\n",
    "\n",
    "`In general, how many applications is Acme able to convert to a sale? How does that vary by FICO? Using the APR test group data, how does the APR affect conversion?`"
   ]
  },
  {
   "cell_type": "code",
   "execution_count": 33,
   "metadata": {},
   "outputs": [
    {
     "name": "stdout",
     "output_type": "stream",
     "text": [
      "Number of total applications converted to sale: 5021\n",
      "Proportion of total applications converted to sale: 0.25105\n"
     ]
    }
   ],
   "source": [
    "print(\"Number of total applications converted to sale:\", len(df[df['converted to sale']]))\n",
    "print(\"Proportion of total applications converted to sale:\", len(df[df['converted to sale']])/len(df))"
   ]
  },
  {
   "cell_type": "markdown",
   "metadata": {},
   "source": [
    "5021 of the total 20,000 (approximately 25.11%) applications converted to a sale. The following table gives the distribution according to FICO category subdivided by APR (or equivalently, subdivided by test group)."
   ]
  },
  {
   "cell_type": "code",
   "execution_count": 34,
   "metadata": {},
   "outputs": [
    {
     "data": {
      "text/html": [
       "<div>\n",
       "<style scoped>\n",
       "    .dataframe tbody tr th:only-of-type {\n",
       "        vertical-align: middle;\n",
       "    }\n",
       "\n",
       "    .dataframe tbody tr th {\n",
       "        vertical-align: top;\n",
       "    }\n",
       "\n",
       "    .dataframe thead th {\n",
       "        text-align: right;\n",
       "    }\n",
       "</style>\n",
       "<table border=\"1\" class=\"dataframe\">\n",
       "  <thead>\n",
       "    <tr style=\"text-align: right;\">\n",
       "      <th></th>\n",
       "      <th>converted to sale</th>\n",
       "      <th>False</th>\n",
       "      <th>True</th>\n",
       "      <th>total count</th>\n",
       "    </tr>\n",
       "    <tr>\n",
       "      <th>fico</th>\n",
       "      <th>apr</th>\n",
       "      <th></th>\n",
       "      <th></th>\n",
       "      <th></th>\n",
       "    </tr>\n",
       "  </thead>\n",
       "  <tbody>\n",
       "    <tr>\n",
       "      <th rowspan=\"2\" valign=\"top\">700</th>\n",
       "      <th>3.00%</th>\n",
       "      <td>3568</td>\n",
       "      <td>1505</td>\n",
       "      <td>5073</td>\n",
       "    </tr>\n",
       "    <tr>\n",
       "      <th>4.00%</th>\n",
       "      <td>3626</td>\n",
       "      <td>1300</td>\n",
       "      <td>4926</td>\n",
       "    </tr>\n",
       "    <tr>\n",
       "      <th rowspan=\"2\" valign=\"top\">600</th>\n",
       "      <th>4.40%</th>\n",
       "      <td>3734</td>\n",
       "      <td>1172</td>\n",
       "      <td>4906</td>\n",
       "    </tr>\n",
       "    <tr>\n",
       "      <th>5.40%</th>\n",
       "      <td>4051</td>\n",
       "      <td>1044</td>\n",
       "      <td>5095</td>\n",
       "    </tr>\n",
       "  </tbody>\n",
       "</table>\n",
       "</div>"
      ],
      "text/plain": [
       "converted to sale  False  True  total count\n",
       "fico apr                                   \n",
       "700  3.00%          3568  1505         5073\n",
       "     4.00%          3626  1300         4926\n",
       "600  4.40%          3734  1172         4906\n",
       "     5.40%          4051  1044         5095"
      ]
     },
     "execution_count": 34,
     "metadata": {},
     "output_type": "execute_result"
    }
   ],
   "source": [
    "sale_by_apr = pd.crosstab([df['fico'], df['apr']], df['converted to sale']) \n",
    "sale_by_apr = sale_by_apr.sort_index(level=0, ascending=False).sort_index(level=1, ascending=True)\n",
    "sale_by_apr['total count'] = sale_by_apr[False] + sale_by_apr[True]\n",
    "sale_by_apr"
   ]
  },
  {
   "cell_type": "markdown",
   "metadata": {},
   "source": [
    "This plain table is less informative than the conclusion of the first section, so we visualize it with two bar plots. The left bar plot is a side-by-side bar plot comparing the conversion frequency subdivided by APRs for all applicants. The right barplot shows the frequency of successful sale conversion by APR, without consideration of FICO. Note the difference in the scale of the y-axes."
   ]
  },
  {
   "cell_type": "code",
   "execution_count": 35,
   "metadata": {},
   "outputs": [
    {
     "data": {
      "image/png": "[encoded data removed]",
      "text/plain": [
       "<Figure size 2000x600 with 2 Axes>"
      ]
     },
     "metadata": {},
     "output_type": "display_data"
    }
   ],
   "source": [
    "fig, ax = plt.subplots(1, 2, figsize=size)\n",
    "\n",
    "sale_by_apr.plot.bar(rot=0, ax=ax[0]).set_ylabel('frequency')\n",
    "ax[0].legend(bbox_to_anchor=(1, 1.1), fancybox=True);\n",
    "\n",
    "sale_by_apr.droplevel(level='fico').sort_values('apr').drop(columns=[False, 'total count']).plot.bar(rot=0, ax=ax[1], color=PALETTE.mocha.colors.peach.hex).set_ylabel('frequency')\n",
    "ax[1].legend(bbox_to_anchor=(1.1, 1.1), fancybox=True);"
   ]
  },
  {
   "cell_type": "markdown",
   "metadata": {},
   "source": [
    "Clearly the test groups have higher conversion rates. To verify this is not due to chance, we perform a hypothesis test. The results are significant at the $\\alpha = .01$ level."
   ]
  },
  {
   "cell_type": "code",
   "execution_count": 36,
   "metadata": {},
   "outputs": [
    {
     "data": {
      "text/plain": [
       "(np.float64(3.6457568788037413), np.float64(0.0001333029720948497))"
      ]
     },
     "execution_count": 36,
     "metadata": {},
     "output_type": "execute_result"
    },
    {
     "data": {
      "text/plain": [
       "(np.float64(3.0737891124127876), np.float64(0.0010567939110436447))"
      ]
     },
     "execution_count": 36,
     "metadata": {},
     "output_type": "execute_result"
    }
   ],
   "source": [
    "from statsmodels.stats.proportion import proportions_ztest\n",
    "\n",
    "true_700 = np.array([sale_by_apr[True].droplevel(level='fico').loc['3.00%'], sale_by_apr[True].droplevel(level='fico').loc['4.00%']])\n",
    "total_700 = np.array([sale_by_apr['total count'].droplevel(level='fico').loc['3.00%'], sale_by_apr['total count'].droplevel(level='fico').loc['4.00%']])\n",
    "\n",
    "true_600 = np.array([sale_by_apr[True].droplevel(level='fico').loc['4.40%'], sale_by_apr[True].droplevel(level='fico').loc['5.40%']])\n",
    "total_600 = np.array([sale_by_apr['total count'].droplevel(level='fico').loc['5.40%'], sale_by_apr['total count'].droplevel(level='fico').loc['5.40%']])\n",
    "\n",
    "\n",
    "test_stat_700, pval_700 = proportions_ztest(count = true_700, nobs = total_700, alternative='larger')\n",
    "test_stat_600, pval_600 = proportions_ztest(count = true_600, nobs = total_600, alternative='larger')\n",
    "\n",
    "\n",
    "test_stat_700, pval_700\n",
    "test_stat_600, pval_600"
   ]
  },
  {
   "cell_type": "markdown",
   "metadata": {},
   "source": [
    "The following table gives sale proportions. We have\n",
    "\\begin{align*} \n",
    "    \\texttt{proportion of total sales} &= \\frac{\\text{number of sales in apr category}}{\\text{total number of sales}} \\\\[1em]\n",
    "    \\texttt{apr category conversion rate} &= \\frac{\\text{number of sales in apr category}}{\\text{total number of applicants in apr category}}\n",
    "\\end{align*}"
   ]
  },
  {
   "cell_type": "code",
   "execution_count": 37,
   "metadata": {},
   "outputs": [
    {
     "data": {
      "text/html": [
       "<div>\n",
       "<style scoped>\n",
       "    .dataframe tbody tr th:only-of-type {\n",
       "        vertical-align: middle;\n",
       "    }\n",
       "\n",
       "    .dataframe tbody tr th {\n",
       "        vertical-align: top;\n",
       "    }\n",
       "\n",
       "    .dataframe thead th {\n",
       "        text-align: right;\n",
       "    }\n",
       "</style>\n",
       "<table border=\"1\" class=\"dataframe\">\n",
       "  <thead>\n",
       "    <tr style=\"text-align: right;\">\n",
       "      <th></th>\n",
       "      <th></th>\n",
       "      <th>proportion of total sales</th>\n",
       "      <th>apr category conversion rate</th>\n",
       "    </tr>\n",
       "    <tr>\n",
       "      <th>fico</th>\n",
       "      <th>apr</th>\n",
       "      <th></th>\n",
       "      <th></th>\n",
       "    </tr>\n",
       "  </thead>\n",
       "  <tbody>\n",
       "    <tr>\n",
       "      <th rowspan=\"2\" valign=\"top\">700</th>\n",
       "      <th>3.00%</th>\n",
       "      <td>0.299741</td>\n",
       "      <td>0.296669</td>\n",
       "    </tr>\n",
       "    <tr>\n",
       "      <th>4.00%</th>\n",
       "      <td>0.258913</td>\n",
       "      <td>0.263906</td>\n",
       "    </tr>\n",
       "    <tr>\n",
       "      <th rowspan=\"2\" valign=\"top\">600</th>\n",
       "      <th>4.40%</th>\n",
       "      <td>0.233420</td>\n",
       "      <td>0.238891</td>\n",
       "    </tr>\n",
       "    <tr>\n",
       "      <th>5.40%</th>\n",
       "      <td>0.207927</td>\n",
       "      <td>0.204907</td>\n",
       "    </tr>\n",
       "  </tbody>\n",
       "</table>\n",
       "</div>"
      ],
      "text/plain": [
       "            proportion of total sales  apr category conversion rate\n",
       "fico apr                                                           \n",
       "700  3.00%                   0.299741                      0.296669\n",
       "     4.00%                   0.258913                      0.263906\n",
       "600  4.40%                   0.233420                      0.238891\n",
       "     5.40%                   0.207927                      0.204907"
      ]
     },
     "execution_count": 37,
     "metadata": {},
     "output_type": "execute_result"
    }
   ],
   "source": [
    "sale_by_apr_relfreqs = (sale_by_apr[True]/len(df[df['converted to sale']])).to_frame()\n",
    "sale_by_apr_relfreqs['apr category conversion rate'] = sale_by_apr[True]/(sale_by_apr[False]+sale_by_apr[True])\n",
    "sale_by_apr_relfreqs = sale_by_apr_relfreqs.sort_index(axis=0).rename(columns={True : 'proportion of total sales'})\n",
    "sale_by_apr_relfreqs.sort_index(axis=0, ascending=False).sort_index(axis=0, level=1, ascending=True)"
   ]
  },
  {
   "cell_type": "markdown",
   "metadata": {},
   "source": [
    "It is clear that FICO is positively correlated with a higher frequency of sale conversion, but APR is most likely the strongest predictor. "
   ]
  },
  {
   "cell_type": "markdown",
   "metadata": {},
   "source": [
    "### 3. Acme Margin <a class=\"anchor\" id=\"acme_margin\"></a>\n",
    "\n",
    "`What does Acme make in margin overall (vehicle + financing), per sale and per application? How does APR affect the finance margin per sale? How does FICO affect the finance margin per sale?`"
   ]
  },
  {
   "cell_type": "markdown",
   "metadata": {},
   "source": [
    "Again, we will start by looking at the possible values for the vehicle margin and finance margin columns."
   ]
  },
  {
   "cell_type": "code",
   "execution_count": 38,
   "metadata": {},
   "outputs": [
    {
     "name": "stdout",
     "output_type": "stream",
     "text": [
      "Vehicle Margin: 1 [1000.]\n",
      "Finance Margin: 4 [600. 350. 650. 400.]\n"
     ]
    }
   ],
   "source": [
    "print(\"Vehicle Margin:\", df['vehicle margin'].nunique(), df['vehicle margin'].dropna().unique())\n",
    "print(\"Finance Margin:\", df['finance margin'].nunique(), df['finance margin'].dropna().unique())"
   ]
  },
  {
   "cell_type": "markdown",
   "metadata": {},
   "source": [
    "Now, we will create a new column which contains the overall margin."
   ]
  },
  {
   "cell_type": "code",
   "execution_count": 39,
   "metadata": {},
   "outputs": [
    {
     "data": {
      "text/html": [
       "<div>\n",
       "<style scoped>\n",
       "    .dataframe tbody tr th:only-of-type {\n",
       "        vertical-align: middle;\n",
       "    }\n",
       "\n",
       "    .dataframe tbody tr th {\n",
       "        vertical-align: top;\n",
       "    }\n",
       "\n",
       "    .dataframe thead th {\n",
       "        text-align: right;\n",
       "    }\n",
       "</style>\n",
       "<table border=\"1\" class=\"dataframe\">\n",
       "  <thead>\n",
       "    <tr style=\"text-align: right;\">\n",
       "      <th></th>\n",
       "      <th>app_id</th>\n",
       "      <th>fico</th>\n",
       "      <th>apr_test_group</th>\n",
       "      <th>apr</th>\n",
       "      <th>converted to sale</th>\n",
       "      <th>vehicle margin</th>\n",
       "      <th>finance margin</th>\n",
       "      <th>overall margin</th>\n",
       "    </tr>\n",
       "  </thead>\n",
       "  <tbody>\n",
       "    <tr>\n",
       "      <th>0</th>\n",
       "      <td>1</td>\n",
       "      <td>700</td>\n",
       "      <td>control</td>\n",
       "      <td>4.00%</td>\n",
       "      <td>False</td>\n",
       "      <td>NaN</td>\n",
       "      <td>NaN</td>\n",
       "      <td>NaN</td>\n",
       "    </tr>\n",
       "    <tr>\n",
       "      <th>1</th>\n",
       "      <td>2</td>\n",
       "      <td>700</td>\n",
       "      <td>test</td>\n",
       "      <td>3.00%</td>\n",
       "      <td>False</td>\n",
       "      <td>NaN</td>\n",
       "      <td>NaN</td>\n",
       "      <td>NaN</td>\n",
       "    </tr>\n",
       "    <tr>\n",
       "      <th>2</th>\n",
       "      <td>3</td>\n",
       "      <td>700</td>\n",
       "      <td>test</td>\n",
       "      <td>3.00%</td>\n",
       "      <td>False</td>\n",
       "      <td>NaN</td>\n",
       "      <td>NaN</td>\n",
       "      <td>NaN</td>\n",
       "    </tr>\n",
       "    <tr>\n",
       "      <th>3</th>\n",
       "      <td>4</td>\n",
       "      <td>700</td>\n",
       "      <td>control</td>\n",
       "      <td>4.00%</td>\n",
       "      <td>False</td>\n",
       "      <td>NaN</td>\n",
       "      <td>NaN</td>\n",
       "      <td>NaN</td>\n",
       "    </tr>\n",
       "    <tr>\n",
       "      <th>4</th>\n",
       "      <td>5</td>\n",
       "      <td>700</td>\n",
       "      <td>control</td>\n",
       "      <td>4.00%</td>\n",
       "      <td>True</td>\n",
       "      <td>1000.0</td>\n",
       "      <td>600.0</td>\n",
       "      <td>1600.0</td>\n",
       "    </tr>\n",
       "  </tbody>\n",
       "</table>\n",
       "</div>"
      ],
      "text/plain": [
       "   app_id  fico apr_test_group    apr  converted to sale  vehicle margin  \\\n",
       "0       1   700        control  4.00%              False             NaN   \n",
       "1       2   700           test  3.00%              False             NaN   \n",
       "2       3   700           test  3.00%              False             NaN   \n",
       "3       4   700        control  4.00%              False             NaN   \n",
       "4       5   700        control  4.00%               True          1000.0   \n",
       "\n",
       "   finance margin  overall margin  \n",
       "0             NaN             NaN  \n",
       "1             NaN             NaN  \n",
       "2             NaN             NaN  \n",
       "3             NaN             NaN  \n",
       "4           600.0          1600.0  "
      ]
     },
     "execution_count": 39,
     "metadata": {},
     "output_type": "execute_result"
    }
   ],
   "source": [
    "df['overall margin'] = df['vehicle margin'] + df['finance margin']\n",
    "df.head()"
   ]
  },
  {
   "cell_type": "markdown",
   "metadata": {},
   "source": [
    "The total overall margin is given below. We also provide the overall margin averaged over all applications and the overall margin averaged over sale conversions. All values are rounded to the nearest integer."
   ]
  },
  {
   "cell_type": "code",
   "execution_count": 40,
   "metadata": {},
   "outputs": [
    {
     "name": "stdout",
     "output_type": "stream",
     "text": [
      "Total overall margin: 7,475,150\n",
      "Overall margin per applicant: 374\n",
      "Overall margin per sale: 1,489\n"
     ]
    }
   ],
   "source": [
    "print('Total overall margin:', f'{round(df['overall margin'].sum()):,}')\n",
    "print('Overall margin per applicant:', round(df['overall margin'].sum()/len(df)))\n",
    "print('Overall margin per sale:', f'{round(df['overall margin'].sum()/len(df[df['converted to sale']])):,}')"
   ]
  },
  {
   "cell_type": "markdown",
   "metadata": {},
   "source": [
    "Now, we construct another contingency table to compare the frequencies of given finance margins vs. APRs. The interior cells of the first four columns of the following table are the frequencies for that subcategory. We have constructed two additional columns, `total finance` and `total overall`. We have $$\\text{total finance} = \\text{frequency} \\times \\text{finance margin}$$ and $$\\text{total overall} = \\text{frequency} \\times (\\text{finance margin} + \\text{vehicle margin})$$"
   ]
  },
  {
   "cell_type": "code",
   "execution_count": 41,
   "metadata": {},
   "outputs": [
    {
     "data": {
      "text/html": [
       "<div>\n",
       "<style scoped>\n",
       "    .dataframe tbody tr th:only-of-type {\n",
       "        vertical-align: middle;\n",
       "    }\n",
       "\n",
       "    .dataframe tbody tr th {\n",
       "        vertical-align: top;\n",
       "    }\n",
       "\n",
       "    .dataframe thead th {\n",
       "        text-align: right;\n",
       "    }\n",
       "</style>\n",
       "<table border=\"1\" class=\"dataframe\">\n",
       "  <thead>\n",
       "    <tr style=\"text-align: right;\">\n",
       "      <th></th>\n",
       "      <th>finance margin</th>\n",
       "      <th>350.0</th>\n",
       "      <th>400.0</th>\n",
       "      <th>600.0</th>\n",
       "      <th>650.0</th>\n",
       "      <th>total finance</th>\n",
       "      <th>total overall</th>\n",
       "    </tr>\n",
       "    <tr>\n",
       "      <th>fico</th>\n",
       "      <th>apr</th>\n",
       "      <th></th>\n",
       "      <th></th>\n",
       "      <th></th>\n",
       "      <th></th>\n",
       "      <th></th>\n",
       "      <th></th>\n",
       "    </tr>\n",
       "  </thead>\n",
       "  <tbody>\n",
       "    <tr>\n",
       "      <th rowspan=\"2\" valign=\"top\">700</th>\n",
       "      <th>3.00%</th>\n",
       "      <td>1505</td>\n",
       "      <td>0</td>\n",
       "      <td>0</td>\n",
       "      <td>0</td>\n",
       "      <td>526750</td>\n",
       "      <td>2031750</td>\n",
       "    </tr>\n",
       "    <tr>\n",
       "      <th>4.00%</th>\n",
       "      <td>0</td>\n",
       "      <td>0</td>\n",
       "      <td>1300</td>\n",
       "      <td>0</td>\n",
       "      <td>780000</td>\n",
       "      <td>2080000</td>\n",
       "    </tr>\n",
       "    <tr>\n",
       "      <th rowspan=\"2\" valign=\"top\">600</th>\n",
       "      <th>4.40%</th>\n",
       "      <td>0</td>\n",
       "      <td>1172</td>\n",
       "      <td>0</td>\n",
       "      <td>0</td>\n",
       "      <td>468800</td>\n",
       "      <td>1640800</td>\n",
       "    </tr>\n",
       "    <tr>\n",
       "      <th>5.40%</th>\n",
       "      <td>0</td>\n",
       "      <td>0</td>\n",
       "      <td>0</td>\n",
       "      <td>1044</td>\n",
       "      <td>678600</td>\n",
       "      <td>1722600</td>\n",
       "    </tr>\n",
       "  </tbody>\n",
       "</table>\n",
       "</div>"
      ],
      "text/plain": [
       "finance margin  350.0  400.0  600.0  650.0  total finance  total overall\n",
       "fico apr                                                                \n",
       "700  3.00%       1505      0      0      0         526750        2031750\n",
       "     4.00%          0      0   1300      0         780000        2080000\n",
       "600  4.40%          0   1172      0      0         468800        1640800\n",
       "     5.40%          0      0      0   1044         678600        1722600"
      ]
     },
     "execution_count": 41,
     "metadata": {},
     "output_type": "execute_result"
    }
   ],
   "source": [
    "finance_margins_by_apr = pd.crosstab([df['fico'], df['apr']], df['finance margin']).sort_index(axis=0, ascending=False, level=0).sort_index(axis=0, ascending=True, level=1)\n",
    "overall_margins_by_apr = pd.crosstab([df['fico'], df['apr']], df['overall margin']).sort_index(axis=0, ascending=False, level=0).sort_index(axis=0, ascending=True, level=1)\n",
    "temp_finance = finance_margins_by_apr.copy()\n",
    "temp_overall = overall_margins_by_apr.copy()\n",
    "\n",
    "finance_margins_by_apr['total finance'] = temp_finance.dot(finance_margins_by_apr.columns.to_list()).astype(int)\n",
    "finance_margins_by_apr['total overall'] = temp_overall.dot(overall_margins_by_apr.columns.to_list()).astype(int)\n",
    "finance_margins_by_apr"
   ]
  },
  {
   "cell_type": "markdown",
   "metadata": {},
   "source": [
    "From the table, we see that if APR rises, then the finance margin tends to rise as well. Within the respective FICO buckets, the higher APRs perform the best in terms of total finance margins. The 4.0% APRs yeld the highest total finance of any APR and indeed the highest total overall. A close second are the 3.0% APRs, who catch up by a large amount due to their high conversion rate.\n",
    "\n",
    "We will create a scatter plot with APR vs. finance margin, and we will also provide a line of best fit. To do this, we must first convert the APRs from strings to floats. In the scatter plot, there are only four points in the plane. We remind the reader that each of these represent over 1000 observations."
   ]
  },
  {
   "cell_type": "code",
   "execution_count": 42,
   "metadata": {},
   "outputs": [],
   "source": [
    "df['apr'] = df['apr'].str.rstrip('%').astype('float')"
   ]
  },
  {
   "cell_type": "code",
   "execution_count": 43,
   "metadata": {},
   "outputs": [
    {
     "data": {
      "text/plain": [
       "<seaborn.axisgrid.FacetGrid at 0x2230215a2d0>"
      ]
     },
     "execution_count": 43,
     "metadata": {},
     "output_type": "execute_result"
    },
    {
     "name": "stdout",
     "output_type": "stream",
     "text": [
      "finance margin = 108.80768371146907 (apr) + 44.32776173829848\n",
      "r: 0.7336700273303032\n"
     ]
    },
    {
     "data": {
      "image/png": "[encoded data removed]",
      "text/plain": [
       "<Figure size 500x500 with 1 Axes>"
      ]
     },
     "metadata": {},
     "output_type": "display_data"
    }
   ],
   "source": [
    "sales_only_df = df.dropna()\n",
    "\n",
    "sns.lmplot(data=sales_only_df, x=\"apr\", y=\"finance margin\")\n",
    "slope, intercept, r, p_val, std_err = stats.linregress(sales_only_df['apr'],sales_only_df['finance margin'])\n",
    "print('finance margin =', slope,'(apr) +', intercept)\n",
    "print('r:', r)"
   ]
  },
  {
   "cell_type": "markdown",
   "metadata": {},
   "source": [
    "Roughly speaking, the linear regression above implies that a 1 point increase in APR translates to about a 109 dollar increase in finance margin per sale. Of course, this is not nearly as precise in practice: moving from a 4.00 to a 4.40 point APR yields 200 dollar *decrease* in finance margin per sale.\n",
    "\n",
    "We can create a similar graph with the FICO on the x-axis and finance margin on the y-axis:"
   ]
  },
  {
   "cell_type": "code",
   "execution_count": 44,
   "metadata": {},
   "outputs": [
    {
     "data": {
      "text/plain": [
       "<seaborn.axisgrid.FacetGrid at 0x2230242fd40>"
      ]
     },
     "execution_count": 44,
     "metadata": {},
     "output_type": "execute_result"
    },
    {
     "name": "stdout",
     "output_type": "stream",
     "text": [
      "finance margin = -0.5191525576426829 (apr) + 829.2713179791115\n",
      "r: -0.20241004960174327\n"
     ]
    },
    {
     "data": {
      "image/png": "[encoded data removed]",
      "text/plain": [
       "<Figure size 500x500 with 1 Axes>"
      ]
     },
     "metadata": {},
     "output_type": "display_data"
    }
   ],
   "source": [
    "sns.lmplot(data=sales_only_df, x=\"fico\", y=\"finance margin\")\n",
    "slope, intercept, r, p_val, std_err = stats.linregress(sales_only_df['fico'],sales_only_df['finance margin'])\n",
    "print('finance margin =', slope,'(apr) +', intercept)\n",
    "print('r:', r)"
   ]
  },
  {
   "cell_type": "markdown",
   "metadata": {},
   "source": [
    "This regression is not useful. The correlation coefficient is very weak, and it is clear from the contingency table for finance margins by FICO and APR above that an increase in FICO is not necessarily associated with a decrease in finance margin. It would be inappropriate to extrapolate or interpolate finance margins using FICO."
   ]
  },
  {
   "cell_type": "markdown",
   "metadata": {},
   "source": [
    "### 4. Margin Optimization <a class=\"anchor\" id=\"margin_optimization\"></a>\n",
    "\n",
    "`Using your understanding of conversion and total margin (across all applications) and how APR affects the two, if Acme wants to optimize total margin, do you think Acme should raise or lower rates on 700 FICO customers? What about 600 FICO customers?`"
   ]
  },
  {
   "cell_type": "code",
   "execution_count": 45,
   "metadata": {},
   "outputs": [
    {
     "data": {
      "text/html": [
       "<div>\n",
       "<style scoped>\n",
       "    .dataframe tbody tr th:only-of-type {\n",
       "        vertical-align: middle;\n",
       "    }\n",
       "\n",
       "    .dataframe tbody tr th {\n",
       "        vertical-align: top;\n",
       "    }\n",
       "\n",
       "    .dataframe thead th {\n",
       "        text-align: right;\n",
       "    }\n",
       "</style>\n",
       "<table border=\"1\" class=\"dataframe\">\n",
       "  <thead>\n",
       "    <tr style=\"text-align: right;\">\n",
       "      <th></th>\n",
       "      <th>finance margin</th>\n",
       "      <th>350.0</th>\n",
       "      <th>400.0</th>\n",
       "      <th>600.0</th>\n",
       "      <th>650.0</th>\n",
       "      <th>total finance</th>\n",
       "      <th>total overall</th>\n",
       "    </tr>\n",
       "    <tr>\n",
       "      <th>fico</th>\n",
       "      <th>apr</th>\n",
       "      <th></th>\n",
       "      <th></th>\n",
       "      <th></th>\n",
       "      <th></th>\n",
       "      <th></th>\n",
       "      <th></th>\n",
       "    </tr>\n",
       "  </thead>\n",
       "  <tbody>\n",
       "    <tr>\n",
       "      <th rowspan=\"2\" valign=\"top\">700</th>\n",
       "      <th>3.00%</th>\n",
       "      <td>1505</td>\n",
       "      <td>0</td>\n",
       "      <td>0</td>\n",
       "      <td>0</td>\n",
       "      <td>526750</td>\n",
       "      <td>2031750</td>\n",
       "    </tr>\n",
       "    <tr>\n",
       "      <th>4.00%</th>\n",
       "      <td>0</td>\n",
       "      <td>0</td>\n",
       "      <td>1300</td>\n",
       "      <td>0</td>\n",
       "      <td>780000</td>\n",
       "      <td>2080000</td>\n",
       "    </tr>\n",
       "    <tr>\n",
       "      <th rowspan=\"2\" valign=\"top\">600</th>\n",
       "      <th>4.40%</th>\n",
       "      <td>0</td>\n",
       "      <td>1172</td>\n",
       "      <td>0</td>\n",
       "      <td>0</td>\n",
       "      <td>468800</td>\n",
       "      <td>1640800</td>\n",
       "    </tr>\n",
       "    <tr>\n",
       "      <th>5.40%</th>\n",
       "      <td>0</td>\n",
       "      <td>0</td>\n",
       "      <td>0</td>\n",
       "      <td>1044</td>\n",
       "      <td>678600</td>\n",
       "      <td>1722600</td>\n",
       "    </tr>\n",
       "  </tbody>\n",
       "</table>\n",
       "</div>"
      ],
      "text/plain": [
       "finance margin  350.0  400.0  600.0  650.0  total finance  total overall\n",
       "fico apr                                                                \n",
       "700  3.00%       1505      0      0      0         526750        2031750\n",
       "     4.00%          0      0   1300      0         780000        2080000\n",
       "600  4.40%          0   1172      0      0         468800        1640800\n",
       "     5.40%          0      0      0   1044         678600        1722600"
      ]
     },
     "execution_count": 45,
     "metadata": {},
     "output_type": "execute_result"
    }
   ],
   "source": [
    "finance_margins_by_apr"
   ]
  },
  {
   "cell_type": "markdown",
   "metadata": {},
   "source": [
    "Acme should use the higher APRs in both FICO categories. While the lower APRs result in a higher number of conversions, this is not enough to offset the decrease in finance margins. Based on this data, the highest margins are achieved by higher APRs in both the 600 and 700 FICO categories.\n",
    "\n",
    "Below is a table from earlier, which gives the sale conversion rates within each APR category. We have added an additional column `margin factor`. We define $$\\texttt{margin factor} = (\\text{finance margin} + \\text{vehicle margin}) \\times \\text{conversion rate}.$$ The highest `margin factor` is the leading performer assuming that APR conversion rates are fixed. Note that the `total overall` from the previous table is simply the `margin factor` multiplied by the number of applicants within each category."
   ]
  },
  {
   "cell_type": "code",
   "execution_count": 46,
   "metadata": {},
   "outputs": [],
   "source": [
    "finance_margins_by_apr['margin factor'] = finance_margins_by_apr['total overall']/(sale_by_apr['total count'])"
   ]
  },
  {
   "cell_type": "code",
   "execution_count": 47,
   "metadata": {},
   "outputs": [
    {
     "data": {
      "text/html": [
       "<div>\n",
       "<style scoped>\n",
       "    .dataframe tbody tr th:only-of-type {\n",
       "        vertical-align: middle;\n",
       "    }\n",
       "\n",
       "    .dataframe tbody tr th {\n",
       "        vertical-align: top;\n",
       "    }\n",
       "\n",
       "    .dataframe thead th {\n",
       "        text-align: right;\n",
       "    }\n",
       "</style>\n",
       "<table border=\"1\" class=\"dataframe\">\n",
       "  <thead>\n",
       "    <tr style=\"text-align: right;\">\n",
       "      <th></th>\n",
       "      <th></th>\n",
       "      <th>False</th>\n",
       "      <th>True</th>\n",
       "      <th>total count</th>\n",
       "      <th>proportion of total sales</th>\n",
       "      <th>apr category conversion rate</th>\n",
       "    </tr>\n",
       "    <tr>\n",
       "      <th>fico</th>\n",
       "      <th>apr</th>\n",
       "      <th></th>\n",
       "      <th></th>\n",
       "      <th></th>\n",
       "      <th></th>\n",
       "      <th></th>\n",
       "    </tr>\n",
       "  </thead>\n",
       "  <tbody>\n",
       "    <tr>\n",
       "      <th rowspan=\"2\" valign=\"top\">700</th>\n",
       "      <th>3.00%</th>\n",
       "      <td>3568</td>\n",
       "      <td>1505</td>\n",
       "      <td>5073</td>\n",
       "      <td>0.299741</td>\n",
       "      <td>0.296669</td>\n",
       "    </tr>\n",
       "    <tr>\n",
       "      <th>4.00%</th>\n",
       "      <td>3626</td>\n",
       "      <td>1300</td>\n",
       "      <td>4926</td>\n",
       "      <td>0.258913</td>\n",
       "      <td>0.263906</td>\n",
       "    </tr>\n",
       "    <tr>\n",
       "      <th rowspan=\"2\" valign=\"top\">600</th>\n",
       "      <th>4.40%</th>\n",
       "      <td>3734</td>\n",
       "      <td>1172</td>\n",
       "      <td>4906</td>\n",
       "      <td>0.233420</td>\n",
       "      <td>0.238891</td>\n",
       "    </tr>\n",
       "    <tr>\n",
       "      <th>5.40%</th>\n",
       "      <td>4051</td>\n",
       "      <td>1044</td>\n",
       "      <td>5095</td>\n",
       "      <td>0.207927</td>\n",
       "      <td>0.204907</td>\n",
       "    </tr>\n",
       "  </tbody>\n",
       "</table>\n",
       "</div>"
      ],
      "text/plain": [
       "            False  True  total count  proportion of total sales  \\\n",
       "fico apr                                                          \n",
       "700  3.00%   3568  1505         5073                   0.299741   \n",
       "     4.00%   3626  1300         4926                   0.258913   \n",
       "600  4.40%   3734  1172         4906                   0.233420   \n",
       "     5.40%   4051  1044         5095                   0.207927   \n",
       "\n",
       "            apr category conversion rate  \n",
       "fico apr                                  \n",
       "700  3.00%                      0.296669  \n",
       "     4.00%                      0.263906  \n",
       "600  4.40%                      0.238891  \n",
       "     5.40%                      0.204907  "
      ]
     },
     "execution_count": 47,
     "metadata": {},
     "output_type": "execute_result"
    },
    {
     "data": {
      "text/html": [
       "<div>\n",
       "<style scoped>\n",
       "    .dataframe tbody tr th:only-of-type {\n",
       "        vertical-align: middle;\n",
       "    }\n",
       "\n",
       "    .dataframe tbody tr th {\n",
       "        vertical-align: top;\n",
       "    }\n",
       "\n",
       "    .dataframe thead th {\n",
       "        text-align: right;\n",
       "    }\n",
       "</style>\n",
       "<table border=\"1\" class=\"dataframe\">\n",
       "  <thead>\n",
       "    <tr style=\"text-align: right;\">\n",
       "      <th></th>\n",
       "      <th>finance margin</th>\n",
       "      <th>350.0</th>\n",
       "      <th>400.0</th>\n",
       "      <th>600.0</th>\n",
       "      <th>650.0</th>\n",
       "      <th>total finance</th>\n",
       "      <th>total overall</th>\n",
       "      <th>margin factor</th>\n",
       "    </tr>\n",
       "    <tr>\n",
       "      <th>fico</th>\n",
       "      <th>apr</th>\n",
       "      <th></th>\n",
       "      <th></th>\n",
       "      <th></th>\n",
       "      <th></th>\n",
       "      <th></th>\n",
       "      <th></th>\n",
       "      <th></th>\n",
       "    </tr>\n",
       "  </thead>\n",
       "  <tbody>\n",
       "    <tr>\n",
       "      <th rowspan=\"2\" valign=\"top\">700</th>\n",
       "      <th>3.00%</th>\n",
       "      <td>1505</td>\n",
       "      <td>0</td>\n",
       "      <td>0</td>\n",
       "      <td>0</td>\n",
       "      <td>526750</td>\n",
       "      <td>2031750</td>\n",
       "      <td>400.502661</td>\n",
       "    </tr>\n",
       "    <tr>\n",
       "      <th>4.00%</th>\n",
       "      <td>0</td>\n",
       "      <td>0</td>\n",
       "      <td>1300</td>\n",
       "      <td>0</td>\n",
       "      <td>780000</td>\n",
       "      <td>2080000</td>\n",
       "      <td>422.249289</td>\n",
       "    </tr>\n",
       "    <tr>\n",
       "      <th rowspan=\"2\" valign=\"top\">600</th>\n",
       "      <th>4.40%</th>\n",
       "      <td>0</td>\n",
       "      <td>1172</td>\n",
       "      <td>0</td>\n",
       "      <td>0</td>\n",
       "      <td>468800</td>\n",
       "      <td>1640800</td>\n",
       "      <td>334.447615</td>\n",
       "    </tr>\n",
       "    <tr>\n",
       "      <th>5.40%</th>\n",
       "      <td>0</td>\n",
       "      <td>0</td>\n",
       "      <td>0</td>\n",
       "      <td>1044</td>\n",
       "      <td>678600</td>\n",
       "      <td>1722600</td>\n",
       "      <td>338.096173</td>\n",
       "    </tr>\n",
       "  </tbody>\n",
       "</table>\n",
       "</div>"
      ],
      "text/plain": [
       "finance margin  350.0  400.0  600.0  650.0  total finance  total overall  \\\n",
       "fico apr                                                                   \n",
       "700  3.00%       1505      0      0      0         526750        2031750   \n",
       "     4.00%          0      0   1300      0         780000        2080000   \n",
       "600  4.40%          0   1172      0      0         468800        1640800   \n",
       "     5.40%          0      0      0   1044         678600        1722600   \n",
       "\n",
       "finance margin  margin factor  \n",
       "fico apr                       \n",
       "700  3.00%         400.502661  \n",
       "     4.00%         422.249289  \n",
       "600  4.40%         334.447615  \n",
       "     5.40%         338.096173  "
      ]
     },
     "execution_count": 47,
     "metadata": {},
     "output_type": "execute_result"
    }
   ],
   "source": [
    "sale_by_apr.join(sale_by_apr_relfreqs)\n",
    "finance_margins_by_apr"
   ]
  },
  {
   "cell_type": "markdown",
   "metadata": {},
   "source": [
    "### 5. Summary Remarks <a class=\"anchor\" id=\"summary_remarks\"></a>\n",
    "\n",
    "`Other than these cut and dry numbers, can you think of other factors Acme might want to take into account before changing rates? A few several-sentence bullet points are sufficient.`"
   ]
  },
  {
   "cell_type": "markdown",
   "metadata": {},
   "source": [
    "The previous paragraph and table show that Acme should pursue higher APR rates within their respective FICO categories. However, it is clear that the 3.00% and 4.00% APR rates outperform the 4.40% and 5.40% APR rates in terms of total overall margin despite the 4.40% and 5.40% rates maintaining higher per-sale margins than their 700 FICO counterparts.\n",
    "\n",
    "It may be worth investigating whether 3.00% and 4.00% APRs should be offered to the 600 FICOs. Given the vehicle margin and the APR rate finance margins, one might consider pursuing sale conversion as a leading metric. For example, 3% APRs have the lowest finance margin, but the high conversion frequency takes it to near first place in total overall margin. On the other hand, a lower FICO comes with increased risk.\n",
    "\n",
    "Moreover, this strategy carries the assumption that conversion rates are constant. It could be the case that conversion rates are variable over time, even within their respective categories."
   ]
  },
  {
   "cell_type": "code",
   "execution_count": 48,
   "metadata": {},
   "outputs": [
    {
     "data": {
      "text/html": [
       "<div>\n",
       "<style scoped>\n",
       "    .dataframe tbody tr th:only-of-type {\n",
       "        vertical-align: middle;\n",
       "    }\n",
       "\n",
       "    .dataframe tbody tr th {\n",
       "        vertical-align: top;\n",
       "    }\n",
       "\n",
       "    .dataframe thead th {\n",
       "        text-align: right;\n",
       "    }\n",
       "</style>\n",
       "<table border=\"1\" class=\"dataframe\">\n",
       "  <thead>\n",
       "    <tr style=\"text-align: right;\">\n",
       "      <th></th>\n",
       "      <th>converted to sale</th>\n",
       "      <th>False</th>\n",
       "      <th>True</th>\n",
       "      <th>total count</th>\n",
       "    </tr>\n",
       "    <tr>\n",
       "      <th>fico</th>\n",
       "      <th>apr</th>\n",
       "      <th></th>\n",
       "      <th></th>\n",
       "      <th></th>\n",
       "    </tr>\n",
       "  </thead>\n",
       "  <tbody>\n",
       "    <tr>\n",
       "      <th rowspan=\"2\" valign=\"top\">700</th>\n",
       "      <th>3.00%</th>\n",
       "      <td>3568</td>\n",
       "      <td>1505</td>\n",
       "      <td>5073</td>\n",
       "    </tr>\n",
       "    <tr>\n",
       "      <th>4.00%</th>\n",
       "      <td>3626</td>\n",
       "      <td>1300</td>\n",
       "      <td>4926</td>\n",
       "    </tr>\n",
       "    <tr>\n",
       "      <th rowspan=\"2\" valign=\"top\">600</th>\n",
       "      <th>4.40%</th>\n",
       "      <td>3734</td>\n",
       "      <td>1172</td>\n",
       "      <td>4906</td>\n",
       "    </tr>\n",
       "    <tr>\n",
       "      <th>5.40%</th>\n",
       "      <td>4051</td>\n",
       "      <td>1044</td>\n",
       "      <td>5095</td>\n",
       "    </tr>\n",
       "  </tbody>\n",
       "</table>\n",
       "</div>"
      ],
      "text/plain": [
       "converted to sale  False  True  total count\n",
       "fico apr                                   \n",
       "700  3.00%          3568  1505         5073\n",
       "     4.00%          3626  1300         4926\n",
       "600  4.40%          3734  1172         4906\n",
       "     5.40%          4051  1044         5095"
      ]
     },
     "execution_count": 48,
     "metadata": {},
     "output_type": "execute_result"
    },
    {
     "data": {
      "text/plain": [
       "numpy.int64"
      ]
     },
     "execution_count": 48,
     "metadata": {},
     "output_type": "execute_result"
    }
   ],
   "source": [
    "sale_by_apr\n",
    "type(sale_by_apr['total count'].iloc[0])"
   ]
  }
 ],
 "metadata": {
  "kernelspec": {
   "display_name": "CarvanaInterview",
   "language": "python",
   "name": "python3"
  },
  "language_info": {
   "codemirror_mode": {
    "name": "ipython",
    "version": 3
   },
   "file_extension": ".py",
   "mimetype": "text/x-python",
   "name": "python",
   "nbconvert_exporter": "python",
   "pygments_lexer": "ipython3",
   "version": "3.12.4"
  }
 },
 "nbformat": 4,
 "nbformat_minor": 2
}
